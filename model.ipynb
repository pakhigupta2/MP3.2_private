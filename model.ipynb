{
 "cells": [
  {
   "cell_type": "code",
   "execution_count": 17,
   "metadata": {},
   "outputs": [
    {
     "output_type": "stream",
     "name": "stdout",
     "text": [
      "Random seed set as 42\n"
     ]
    }
   ],
   "source": [
    "import torch\n",
    "import random\n",
    "import numpy as np\n",
    "\n",
    "seed = 42\n",
    "np.random.seed(seed)\n",
    "random.seed(seed)\n",
    "torch.manual_seed(seed)\n",
    "torch.cuda.manual_seed(seed)\n",
    "torch.backends.cudnn.deterministic = True\n",
    "torch.backends.cudnn.benchmark = False\n",
    "print(\"Random seed set as \" + str(seed))\n",
    "\n",
    "torch.cuda.empty_cache()"
   ]
  },
  {
   "cell_type": "code",
   "execution_count": 18,
   "metadata": {},
   "outputs": [],
   "source": [
    "import torch.nn as nn\n",
    "from torch.utils.data import DataLoader, TensorDataset, random_split\n",
    "from transformers import AutoTokenizer, LongformerForSequenceClassification\n",
    "from transformers import BertTokenizer, BertForSequenceClassification\n",
    "import json\n",
    "import pandas as pd"
   ]
  },
  {
   "cell_type": "code",
   "execution_count": 19,
   "metadata": {},
   "outputs": [
    {
     "output_type": "execute_result",
     "data": {
      "text/plain": [
       "                                            document  label\n",
       "0  Economy of India From Wikipedia, the free ency...      0\n",
       "1  Silicon From Wikipedia, the free encyclopedia ...      0\n",
       "2  Call Us 1 - 603 - 244 - 6292 Follow Us 1 - 603...      1\n",
       "3  Skip to main content .us Hello Select your add...      0\n",
       "4  Mucus From Wikipedia, the free encyclopedia Ju...      0"
      ],
      "text/html": "<div>\n<style scoped>\n    .dataframe tbody tr th:only-of-type {\n        vertical-align: middle;\n    }\n\n    .dataframe tbody tr th {\n        vertical-align: top;\n    }\n\n    .dataframe thead th {\n        text-align: right;\n    }\n</style>\n<table border=\"1\" class=\"dataframe\">\n  <thead>\n    <tr style=\"text-align: right;\">\n      <th></th>\n      <th>document</th>\n      <th>label</th>\n    </tr>\n  </thead>\n  <tbody>\n    <tr>\n      <th>0</th>\n      <td>Economy of India From Wikipedia, the free ency...</td>\n      <td>0</td>\n    </tr>\n    <tr>\n      <th>1</th>\n      <td>Silicon From Wikipedia, the free encyclopedia ...</td>\n      <td>0</td>\n    </tr>\n    <tr>\n      <th>2</th>\n      <td>Call Us 1 - 603 - 244 - 6292 Follow Us 1 - 603...</td>\n      <td>1</td>\n    </tr>\n    <tr>\n      <th>3</th>\n      <td>Skip to main content .us Hello Select your add...</td>\n      <td>0</td>\n    </tr>\n    <tr>\n      <th>4</th>\n      <td>Mucus From Wikipedia, the free encyclopedia Ju...</td>\n      <td>0</td>\n    </tr>\n  </tbody>\n</table>\n</div>"
     },
     "metadata": {},
     "execution_count": 19
    }
   ],
   "source": [
    "df = pd.read_csv(\"/Users/pakhigupta/Documents/UIUC Grad/CS410/assignments/MP3.2_private/train_data.csv\")\n",
    "df.head()"
   ]
  },
  {
   "cell_type": "code",
   "execution_count": 20,
   "metadata": {},
   "outputs": [
    {
     "output_type": "stream",
     "name": "stderr",
     "text": [
      "Some weights of BertForSequenceClassification were not initialized from the model checkpoint at bert-base-uncased and are newly initialized: ['classifier.weight', 'classifier.bias']\nYou should probably TRAIN this model on a down-stream task to be able to use it for predictions and inference.\n"
     ]
    }
   ],
   "source": [
    "train_texts, train_labels = df['document'].values, df['label'].values\n",
    "# tokenizer = AutoTokenizer.from_pretrained(\"allenai/longformer-base-4096\")\n",
    "# model = LongformerForSequenceClassification.from_pretrained(\"allenai/longformer-base-4096\", num_labels=2)\n",
    "tokenizer = BertTokenizer.from_pretrained(\"bert-base-uncased\")\n",
    "model = BertForSequenceClassification.from_pretrained(\"bert-base-uncased\", num_labels=2)\n"
   ]
  },
  {
   "cell_type": "code",
   "execution_count": 21,
   "metadata": {},
   "outputs": [
    {
     "output_type": "stream",
     "name": "stderr",
     "text": [
      "100%|██████████| 1500/1500 [01:26<00:00, 17.27it/s]\n"
     ]
    }
   ],
   "source": [
    "tokenized_texts = []\n",
    "from tqdm import tqdm\n",
    "\n",
    "max_seq_length = 512\n",
    "\n",
    "for text in tqdm(train_texts):\n",
    "    tokenized_texts.append(tokenizer(text, truncation=True, padding='max_length', max_length=max_seq_length, return_tensors='pt'))"
   ]
  },
  {
   "cell_type": "code",
   "execution_count": 22,
   "metadata": {},
   "outputs": [],
   "source": [
    "# Tokenize the texts and convert them to tensors\n",
    "from sklearn.metrics import accuracy_score, f1_score, classification_report\n",
    "import torch_optimizer as optim\n",
    "from transformers import AdamW\n",
    "\n",
    "input_ids = torch.cat([t['input_ids'] for t in tokenized_texts], dim=0)\n",
    "attention_mask = torch.cat([t['attention_mask'] for t in tokenized_texts], dim=0)\n",
    "labels = torch.tensor(train_labels)\n",
    "\n",
    "# Create a dataset and data loader\n",
    "dataset = TensorDataset(input_ids, attention_mask, labels)\n",
    "train_size = int(0.8 * len(dataset))\n",
    "val_size = len(dataset) - train_size\n",
    "train_dataset, val_dataset = random_split(dataset, [train_size, val_size])\n",
    "\n",
    "batch_size = 16\n",
    "lr = 1e-5\n",
    "\n",
    "train_loader = DataLoader(train_dataset, batch_size=batch_size)\n",
    "val_loader = DataLoader(val_dataset, batch_size=batch_size)\n",
    "\n",
    "optimizer = torch.optim.AdamW(model.parameters(), lr=lr)\n",
    "criterion = nn.CrossEntropyLoss()"
   ]
  },
  {
   "cell_type": "code",
   "execution_count": 23,
   "metadata": {},
   "outputs": [],
   "source": [
    "def train_epoch(model, dataloader, optimizer, criterion, device):\n",
    "    model.train()\n",
    "    total_loss = 0.0\n",
    "    for batch in tqdm(dataloader):\n",
    "        input_ids, attention_mask, labels = batch\n",
    "        input_ids, attention_mask, labels = input_ids.to(device), attention_mask.to(device), labels.to(device)\n",
    "\n",
    "        optimizer.zero_grad()\n",
    "        outputs = model(input_ids, attention_mask=attention_mask, labels=labels)\n",
    "        loss = outputs.loss\n",
    "        total_loss += loss.item()\n",
    "        loss.backward()\n",
    "        optimizer.step()\n",
    "\n",
    "    return total_loss / len(dataloader)\n",
    "\n",
    "def evaluate(model, dataloader, criterion, device):\n",
    "    model.eval()\n",
    "    total_loss = 0.0\n",
    "    correct_predictions = 0\n",
    "    total_samples = 0\n",
    "\n",
    "    with torch.no_grad():\n",
    "        for batch in tqdm(dataloader):\n",
    "            input_ids, attention_mask, labels = batch\n",
    "            input_ids, attention_mask, labels = input_ids.to(device), attention_mask.to(device), labels.to(device)\n",
    "\n",
    "            outputs = model(input_ids, attention_mask=attention_mask, labels=labels)\n",
    "            loss = outputs.loss\n",
    "            total_loss += loss.item()\n",
    "\n",
    "            logits = outputs.logits\n",
    "            predictions = torch.argmax(logits, dim=1)\n",
    "            correct_predictions += torch.sum(predictions == labels).item()\n",
    "            print(labels.cpu())\n",
    "            total_samples += labels.size(0)\n",
    "\n",
    "\n",
    "    print(classification_report(predictions.cpu().numpy(), labels.cpu().numpy()))\n",
    "    return total_loss / len(dataloader), correct_predictions / total_samples"
   ]
  },
  {
   "cell_type": "code",
   "execution_count": 24,
   "metadata": {},
   "outputs": [
    {
     "output_type": "execute_result",
     "data": {
      "text/plain": [
       "BertForSequenceClassification(\n",
       "  (bert): BertModel(\n",
       "    (embeddings): BertEmbeddings(\n",
       "      (word_embeddings): Embedding(30522, 768, padding_idx=0)\n",
       "      (position_embeddings): Embedding(512, 768)\n",
       "      (token_type_embeddings): Embedding(2, 768)\n",
       "      (LayerNorm): LayerNorm((768,), eps=1e-12, elementwise_affine=True)\n",
       "      (dropout): Dropout(p=0.1, inplace=False)\n",
       "    )\n",
       "    (encoder): BertEncoder(\n",
       "      (layer): ModuleList(\n",
       "        (0-11): 12 x BertLayer(\n",
       "          (attention): BertAttention(\n",
       "            (self): BertSelfAttention(\n",
       "              (query): Linear(in_features=768, out_features=768, bias=True)\n",
       "              (key): Linear(in_features=768, out_features=768, bias=True)\n",
       "              (value): Linear(in_features=768, out_features=768, bias=True)\n",
       "              (dropout): Dropout(p=0.1, inplace=False)\n",
       "            )\n",
       "            (output): BertSelfOutput(\n",
       "              (dense): Linear(in_features=768, out_features=768, bias=True)\n",
       "              (LayerNorm): LayerNorm((768,), eps=1e-12, elementwise_affine=True)\n",
       "              (dropout): Dropout(p=0.1, inplace=False)\n",
       "            )\n",
       "          )\n",
       "          (intermediate): BertIntermediate(\n",
       "            (dense): Linear(in_features=768, out_features=3072, bias=True)\n",
       "            (intermediate_act_fn): GELUActivation()\n",
       "          )\n",
       "          (output): BertOutput(\n",
       "            (dense): Linear(in_features=3072, out_features=768, bias=True)\n",
       "            (LayerNorm): LayerNorm((768,), eps=1e-12, elementwise_affine=True)\n",
       "            (dropout): Dropout(p=0.1, inplace=False)\n",
       "          )\n",
       "        )\n",
       "      )\n",
       "    )\n",
       "    (pooler): BertPooler(\n",
       "      (dense): Linear(in_features=768, out_features=768, bias=True)\n",
       "      (activation): Tanh()\n",
       "    )\n",
       "  )\n",
       "  (dropout): Dropout(p=0.1, inplace=False)\n",
       "  (classifier): Linear(in_features=768, out_features=2, bias=True)\n",
       ")"
      ]
     },
     "metadata": {},
     "execution_count": 24
    }
   ],
   "source": [
    "device = torch.device(\"cuda\" if torch.cuda.is_available() else \"cpu\")\n",
    "model.to(device)"
   ]
  },
  {
   "cell_type": "code",
   "execution_count": 25,
   "metadata": {
    "tags": []
   },
   "outputs": [
    {
     "output_type": "stream",
     "name": "stderr",
     "text": [
      "100%|██████████| 75/75 [1:22:47<00:00, 66.23s/it]\n",
      "  5%|▌         | 1/19 [00:16<05:01, 16.75s/it]tensor([0, 0, 1, 1, 0, 0, 0, 1, 0, 0, 0, 1, 0, 0, 0, 0])\n",
      " 11%|█         | 2/19 [00:33<04:39, 16.47s/it]tensor([1, 1, 1, 0, 0, 0, 0, 1, 0, 0, 0, 0, 0, 1, 0, 1])\n",
      " 16%|█▌        | 3/19 [00:49<04:22, 16.42s/it]tensor([0, 0, 0, 0, 0, 1, 0, 0, 0, 1, 1, 0, 1, 0, 0, 0])\n",
      " 21%|██        | 4/19 [01:06<04:08, 16.60s/it]tensor([0, 0, 0, 1, 0, 1, 1, 1, 0, 0, 1, 0, 0, 0, 0, 0])\n",
      " 26%|██▋       | 5/19 [01:24<03:58, 17.07s/it]tensor([0, 0, 0, 0, 0, 1, 1, 0, 0, 1, 1, 0, 0, 0, 0, 0])\n",
      " 32%|███▏      | 6/19 [01:41<03:43, 17.21s/it]tensor([0, 0, 1, 0, 1, 0, 0, 0, 1, 0, 0, 1, 1, 0, 0, 0])\n",
      " 37%|███▋      | 7/19 [01:59<03:30, 17.54s/it]tensor([1, 0, 0, 0, 1, 1, 0, 1, 0, 0, 1, 1, 0, 0, 0, 0])\n",
      " 42%|████▏     | 8/19 [02:16<03:11, 17.37s/it]tensor([0, 0, 1, 0, 0, 0, 0, 0, 0, 1, 0, 0, 0, 0, 0, 0])\n",
      " 47%|████▋     | 9/19 [02:34<02:55, 17.59s/it]tensor([0, 1, 0, 0, 0, 1, 0, 0, 0, 0, 0, 0, 0, 0, 0, 0])\n",
      " 53%|█████▎    | 10/19 [02:52<02:37, 17.45s/it]tensor([1, 0, 0, 0, 0, 0, 1, 1, 0, 1, 0, 1, 0, 0, 0, 0])\n",
      " 58%|█████▊    | 11/19 [03:08<02:16, 17.05s/it]tensor([0, 0, 0, 0, 1, 1, 0, 0, 0, 0, 0, 0, 0, 1, 0, 1])\n",
      " 63%|██████▎   | 12/19 [03:23<01:56, 16.62s/it]tensor([0, 0, 0, 1, 0, 1, 0, 0, 0, 1, 0, 0, 0, 0, 1, 0])\n",
      " 68%|██████▊   | 13/19 [03:39<01:37, 16.30s/it]tensor([1, 0, 0, 0, 1, 1, 0, 0, 1, 0, 0, 0, 0, 0, 0, 0])\n",
      " 74%|███████▎  | 14/19 [03:55<01:20, 16.12s/it]tensor([0, 0, 0, 0, 0, 0, 0, 0, 0, 0, 1, 1, 1, 0, 0, 0])\n",
      " 79%|███████▉  | 15/19 [04:10<01:04, 16.03s/it]tensor([0, 1, 0, 0, 0, 0, 0, 0, 1, 0, 0, 0, 0, 0, 0, 1])\n",
      " 84%|████████▍ | 16/19 [04:27<00:48, 16.10s/it]tensor([0, 0, 1, 0, 0, 0, 0, 1, 0, 0, 0, 0, 0, 0, 0, 0])\n",
      " 89%|████████▉ | 17/19 [04:43<00:32, 16.15s/it]tensor([0, 0, 1, 0, 1, 0, 0, 0, 0, 0, 0, 1, 1, 0, 0, 0])\n",
      " 95%|█████████▍| 18/19 [05:00<00:16, 16.44s/it]tensor([1, 0, 0, 0, 0, 0, 0, 0, 0, 0, 0, 0, 0, 0, 0, 0])\n",
      "100%|██████████| 19/19 [05:13<00:00, 16.49s/it]tensor([0, 1, 0, 0, 0, 1, 1, 0, 0, 0, 0, 1])\n",
      "              precision    recall  f1-score   support\n",
      "\n",
      "           0       1.00      0.73      0.84        11\n",
      "           1       0.25      1.00      0.40         1\n",
      "\n",
      "    accuracy                           0.75        12\n",
      "   macro avg       0.62      0.86      0.62        12\n",
      "weighted avg       0.94      0.75      0.81        12\n",
      "\n",
      "Epoch 1/3 - Train Loss: 0.5089 - Val Loss: 0.4151 - Val Accuracy: 79.33%\n",
      "\n",
      "100%|██████████| 75/75 [1:24:52<00:00, 67.90s/it]\n",
      "  5%|▌         | 1/19 [00:17<05:16, 17.56s/it]tensor([0, 0, 1, 1, 0, 0, 0, 1, 0, 0, 0, 1, 0, 0, 0, 0])\n",
      " 11%|█         | 2/19 [00:35<04:57, 17.52s/it]tensor([1, 1, 1, 0, 0, 0, 0, 1, 0, 0, 0, 0, 0, 1, 0, 1])\n",
      " 16%|█▌        | 3/19 [00:52<04:37, 17.32s/it]tensor([0, 0, 0, 0, 0, 1, 0, 0, 0, 1, 1, 0, 1, 0, 0, 0])\n",
      " 21%|██        | 4/19 [01:12<04:37, 18.52s/it]tensor([0, 0, 0, 1, 0, 1, 1, 1, 0, 0, 1, 0, 0, 0, 0, 0])\n",
      " 26%|██▋       | 5/19 [01:29<04:09, 17.80s/it]tensor([0, 0, 0, 0, 0, 1, 1, 0, 0, 1, 1, 0, 0, 0, 0, 0])\n",
      " 32%|███▏      | 6/19 [01:45<03:46, 17.39s/it]tensor([0, 0, 1, 0, 1, 0, 0, 0, 1, 0, 0, 1, 1, 0, 0, 0])\n",
      " 37%|███▋      | 7/19 [02:02<03:26, 17.17s/it]tensor([1, 0, 0, 0, 1, 1, 0, 1, 0, 0, 1, 1, 0, 0, 0, 0])\n",
      " 42%|████▏     | 8/19 [02:18<03:04, 16.82s/it]tensor([0, 0, 1, 0, 0, 0, 0, 0, 0, 1, 0, 0, 0, 0, 0, 0])\n",
      " 47%|████▋     | 9/19 [02:34<02:45, 16.59s/it]tensor([0, 1, 0, 0, 0, 1, 0, 0, 0, 0, 0, 0, 0, 0, 0, 0])\n",
      " 53%|█████▎    | 10/19 [02:50<02:26, 16.27s/it]tensor([1, 0, 0, 0, 0, 0, 1, 1, 0, 1, 0, 1, 0, 0, 0, 0])\n",
      " 58%|█████▊    | 11/19 [03:06<02:10, 16.26s/it]tensor([0, 0, 0, 0, 1, 1, 0, 0, 0, 0, 0, 0, 0, 1, 0, 1])\n",
      " 63%|██████▎   | 12/19 [03:21<01:51, 15.91s/it]tensor([0, 0, 0, 1, 0, 1, 0, 0, 0, 1, 0, 0, 0, 0, 1, 0])\n",
      " 68%|██████▊   | 13/19 [03:37<01:34, 15.83s/it]tensor([1, 0, 0, 0, 1, 1, 0, 0, 1, 0, 0, 0, 0, 0, 0, 0])\n",
      " 74%|███████▎  | 14/19 [03:52<01:18, 15.65s/it]tensor([0, 0, 0, 0, 0, 0, 0, 0, 0, 0, 1, 1, 1, 0, 0, 0])\n",
      " 79%|███████▉  | 15/19 [04:08<01:03, 15.90s/it]tensor([0, 1, 0, 0, 0, 0, 0, 0, 1, 0, 0, 0, 0, 0, 0, 1])\n",
      " 84%|████████▍ | 16/19 [04:26<00:49, 16.43s/it]tensor([0, 0, 1, 0, 0, 0, 0, 1, 0, 0, 0, 0, 0, 0, 0, 0])\n",
      " 89%|████████▉ | 17/19 [04:42<00:32, 16.23s/it]tensor([0, 0, 1, 0, 1, 0, 0, 0, 0, 0, 0, 1, 1, 0, 0, 0])\n",
      " 95%|█████████▍| 18/19 [04:58<00:16, 16.13s/it]tensor([1, 0, 0, 0, 0, 0, 0, 0, 0, 0, 0, 0, 0, 0, 0, 0])\n",
      "100%|██████████| 19/19 [05:09<00:00, 16.31s/it]tensor([0, 1, 0, 0, 0, 1, 1, 0, 0, 0, 0, 1])\n",
      "              precision    recall  f1-score   support\n",
      "\n",
      "           0       1.00      0.89      0.94         9\n",
      "           1       0.75      1.00      0.86         3\n",
      "\n",
      "    accuracy                           0.92        12\n",
      "   macro avg       0.88      0.94      0.90        12\n",
      "weighted avg       0.94      0.92      0.92        12\n",
      "\n",
      "Epoch 2/3 - Train Loss: 0.3691 - Val Loss: 0.3357 - Val Accuracy: 86.67%\n",
      "\n",
      "100%|██████████| 75/75 [1:22:07<00:00, 65.70s/it]\n",
      "  5%|▌         | 1/19 [00:14<04:13, 14.10s/it]tensor([0, 0, 1, 1, 0, 0, 0, 1, 0, 0, 0, 1, 0, 0, 0, 0])\n",
      " 11%|█         | 2/19 [00:27<03:54, 13.79s/it]tensor([1, 1, 1, 0, 0, 0, 0, 1, 0, 0, 0, 0, 0, 1, 0, 1])\n",
      " 16%|█▌        | 3/19 [00:41<03:37, 13.58s/it]tensor([0, 0, 0, 0, 0, 1, 0, 0, 0, 1, 1, 0, 1, 0, 0, 0])\n",
      " 21%|██        | 4/19 [00:54<03:22, 13.47s/it]tensor([0, 0, 0, 1, 0, 1, 1, 1, 0, 0, 1, 0, 0, 0, 0, 0])\n",
      " 26%|██▋       | 5/19 [01:07<03:07, 13.40s/it]tensor([0, 0, 0, 0, 0, 1, 1, 0, 0, 1, 1, 0, 0, 0, 0, 0])\n",
      " 32%|███▏      | 6/19 [01:21<02:54, 13.42s/it]tensor([0, 0, 1, 0, 1, 0, 0, 0, 1, 0, 0, 1, 1, 0, 0, 0])\n",
      " 37%|███▋      | 7/19 [01:34<02:40, 13.40s/it]tensor([1, 0, 0, 0, 1, 1, 0, 1, 0, 0, 1, 1, 0, 0, 0, 0])\n",
      " 42%|████▏     | 8/19 [01:47<02:27, 13.44s/it]tensor([0, 0, 1, 0, 0, 0, 0, 0, 0, 1, 0, 0, 0, 0, 0, 0])\n",
      " 47%|████▋     | 9/19 [02:01<02:15, 13.50s/it]tensor([0, 1, 0, 0, 0, 1, 0, 0, 0, 0, 0, 0, 0, 0, 0, 0])\n",
      " 53%|█████▎    | 10/19 [02:17<02:07, 14.17s/it]tensor([1, 0, 0, 0, 0, 0, 1, 1, 0, 1, 0, 1, 0, 0, 0, 0])\n",
      " 58%|█████▊    | 11/19 [02:35<02:03, 15.42s/it]tensor([0, 0, 0, 0, 1, 1, 0, 0, 0, 0, 0, 0, 0, 1, 0, 1])\n",
      " 63%|██████▎   | 12/19 [02:53<01:53, 16.25s/it]tensor([0, 0, 0, 1, 0, 1, 0, 0, 0, 1, 0, 0, 0, 0, 1, 0])\n",
      " 68%|██████▊   | 13/19 [03:11<01:40, 16.74s/it]tensor([1, 0, 0, 0, 1, 1, 0, 0, 1, 0, 0, 0, 0, 0, 0, 0])\n",
      " 74%|███████▎  | 14/19 [03:30<01:27, 17.41s/it]tensor([0, 0, 0, 0, 0, 0, 0, 0, 0, 0, 1, 1, 1, 0, 0, 0])\n",
      " 79%|███████▉  | 15/19 [03:48<01:10, 17.72s/it]tensor([0, 1, 0, 0, 0, 0, 0, 0, 1, 0, 0, 0, 0, 0, 0, 1])\n",
      " 84%|████████▍ | 16/19 [04:07<00:53, 17.90s/it]tensor([0, 0, 1, 0, 0, 0, 0, 1, 0, 0, 0, 0, 0, 0, 0, 0])\n",
      " 89%|████████▉ | 17/19 [04:24<00:35, 17.69s/it]tensor([0, 0, 1, 0, 1, 0, 0, 0, 0, 0, 0, 1, 1, 0, 0, 0])\n",
      " 95%|█████████▍| 18/19 [04:40<00:17, 17.31s/it]tensor([1, 0, 0, 0, 0, 0, 0, 0, 0, 0, 0, 0, 0, 0, 0, 0])\n",
      "100%|██████████| 19/19 [04:53<00:00, 15.43s/it]tensor([0, 1, 0, 0, 0, 1, 1, 0, 0, 0, 0, 1])\n",
      "              precision    recall  f1-score   support\n",
      "\n",
      "           0       1.00      0.89      0.94         9\n",
      "           1       0.75      1.00      0.86         3\n",
      "\n",
      "    accuracy                           0.92        12\n",
      "   macro avg       0.88      0.94      0.90        12\n",
      "weighted avg       0.94      0.92      0.92        12\n",
      "\n",
      "Epoch 3/3 - Train Loss: 0.2365 - Val Loss: 0.3073 - Val Accuracy: 90.00%\n",
      "\n"
     ]
    }
   ],
   "source": [
    "num_epochs = 3\n",
    "MAIN_DIR = \"/Users/pakhigupta/Documents/UIUC Grad/CS410/assignments/MP3.2_private\"\n",
    "for epoch in range(num_epochs):\n",
    "    train_loss = train_epoch(model, train_loader, optimizer, criterion, device)\n",
    "    val_loss, val_accuracy = evaluate(model, val_loader, criterion, device)\n",
    "\n",
    "    print(f\"Epoch {epoch + 1}/{num_epochs} - Train Loss: {train_loss:.4f} - Val Loss: {val_loss:.4f} - Val Accuracy: {val_accuracy:.2%}\")\n",
    "    model.save_pretrained(f\"{MAIN_DIR}/fine_tuned_bert_epoch_{epoch+1}_lr_{lr}\")\n",
    "\n",
    "# Save the fine-tuned model\n",
    "model.save_pretrained(f\"{MAIN_DIR}/fine_tuned_bert\")"
   ]
  },
  {
   "cell_type": "code",
   "execution_count": 26,
   "metadata": {},
   "outputs": [
    {
     "output_type": "stream",
     "name": "stdout",
     "text": [
      "1139\n"
     ]
    },
    {
     "output_type": "execute_result",
     "data": {
      "text/plain": [
       "1500"
      ]
     },
     "metadata": {},
     "execution_count": 26
    }
   ],
   "source": [
    "c = 0\n",
    "for i in labels.cpu().numpy():\n",
    "  if i == 0:\n",
    "    c += 1\n",
    "\n",
    "print(c)\n",
    "len(labels)"
   ]
  },
  {
   "cell_type": "code",
   "execution_count": 27,
   "metadata": {},
   "outputs": [
    {
     "output_type": "execute_result",
     "data": {
      "text/plain": [
       "                                            document\n",
       "0  News World Cup Business Opinion Ukraine Sport ...\n",
       "1  Skeleton From Wikipedia, the free encyclopedia...\n",
       "2  Wassermann reaction | definition of Wassermann...\n",
       "3  Skip to main content Search My Account Hi! Sig...\n",
       "4  Menu Topics Buildings Care Ministries Conflict..."
      ],
      "text/html": "<div>\n<style scoped>\n    .dataframe tbody tr th:only-of-type {\n        vertical-align: middle;\n    }\n\n    .dataframe tbody tr th {\n        vertical-align: top;\n    }\n\n    .dataframe thead th {\n        text-align: right;\n    }\n</style>\n<table border=\"1\" class=\"dataframe\">\n  <thead>\n    <tr style=\"text-align: right;\">\n      <th></th>\n      <th>document</th>\n    </tr>\n  </thead>\n  <tbody>\n    <tr>\n      <th>0</th>\n      <td>News World Cup Business Opinion Ukraine Sport ...</td>\n    </tr>\n    <tr>\n      <th>1</th>\n      <td>Skeleton From Wikipedia, the free encyclopedia...</td>\n    </tr>\n    <tr>\n      <th>2</th>\n      <td>Wassermann reaction | definition of Wassermann...</td>\n    </tr>\n    <tr>\n      <th>3</th>\n      <td>Skip to main content Search My Account Hi! Sig...</td>\n    </tr>\n    <tr>\n      <th>4</th>\n      <td>Menu Topics Buildings Care Ministries Conflict...</td>\n    </tr>\n  </tbody>\n</table>\n</div>"
     },
     "metadata": {},
     "execution_count": 27
    }
   ],
   "source": [
    "df_test = pd.read_csv(f\"{MAIN_DIR}/test_data.csv\")\n",
    "df_test.head()"
   ]
  },
  {
   "cell_type": "code",
   "execution_count": 28,
   "metadata": {},
   "outputs": [],
   "source": [
    "texts_test = df_test['document'].values"
   ]
  },
  {
   "cell_type": "code",
   "execution_count": 29,
   "metadata": {},
   "outputs": [
    {
     "output_type": "execute_result",
     "data": {
      "text/plain": [
       "BertForSequenceClassification(\n",
       "  (bert): BertModel(\n",
       "    (embeddings): BertEmbeddings(\n",
       "      (word_embeddings): Embedding(30522, 768, padding_idx=0)\n",
       "      (position_embeddings): Embedding(512, 768)\n",
       "      (token_type_embeddings): Embedding(2, 768)\n",
       "      (LayerNorm): LayerNorm((768,), eps=1e-12, elementwise_affine=True)\n",
       "      (dropout): Dropout(p=0.1, inplace=False)\n",
       "    )\n",
       "    (encoder): BertEncoder(\n",
       "      (layer): ModuleList(\n",
       "        (0-11): 12 x BertLayer(\n",
       "          (attention): BertAttention(\n",
       "            (self): BertSelfAttention(\n",
       "              (query): Linear(in_features=768, out_features=768, bias=True)\n",
       "              (key): Linear(in_features=768, out_features=768, bias=True)\n",
       "              (value): Linear(in_features=768, out_features=768, bias=True)\n",
       "              (dropout): Dropout(p=0.1, inplace=False)\n",
       "            )\n",
       "            (output): BertSelfOutput(\n",
       "              (dense): Linear(in_features=768, out_features=768, bias=True)\n",
       "              (LayerNorm): LayerNorm((768,), eps=1e-12, elementwise_affine=True)\n",
       "              (dropout): Dropout(p=0.1, inplace=False)\n",
       "            )\n",
       "          )\n",
       "          (intermediate): BertIntermediate(\n",
       "            (dense): Linear(in_features=768, out_features=3072, bias=True)\n",
       "            (intermediate_act_fn): GELUActivation()\n",
       "          )\n",
       "          (output): BertOutput(\n",
       "            (dense): Linear(in_features=3072, out_features=768, bias=True)\n",
       "            (LayerNorm): LayerNorm((768,), eps=1e-12, elementwise_affine=True)\n",
       "            (dropout): Dropout(p=0.1, inplace=False)\n",
       "          )\n",
       "        )\n",
       "      )\n",
       "    )\n",
       "    (pooler): BertPooler(\n",
       "      (dense): Linear(in_features=768, out_features=768, bias=True)\n",
       "      (activation): Tanh()\n",
       "    )\n",
       "  )\n",
       "  (dropout): Dropout(p=0.1, inplace=False)\n",
       "  (classifier): Linear(in_features=768, out_features=2, bias=True)\n",
       ")"
      ]
     },
     "metadata": {},
     "execution_count": 29
    }
   ],
   "source": [
    "loaded_model = BertForSequenceClassification.from_pretrained(f\"{MAIN_DIR}/fine_tuned_bert\")\n",
    "loaded_model.to(device)"
   ]
  },
  {
   "cell_type": "code",
   "execution_count": 30,
   "metadata": {},
   "outputs": [
    {
     "output_type": "stream",
     "name": "stderr",
     "text": [
      "100%|██████████| 500/500 [06:42<00:00,  1.24it/s]\n"
     ]
    }
   ],
   "source": [
    "loaded_model.eval()\n",
    "\n",
    "all_preds = []\n",
    "\n",
    "with torch.no_grad():\n",
    "  for text in tqdm(texts_test):\n",
    "      tokenized_sentence = tokenizer(text, truncation=True, padding='max_length', max_length=max_seq_length, return_tensors='pt')\n",
    "      input_ids = tokenized_sentence[\"input_ids\"].to(device)\n",
    "      attention_mask = tokenized_sentence[\"attention_mask\"].to(device)\n",
    "\n",
    "      outputs = loaded_model(input_ids, attention_mask=attention_mask)\n",
    "      logits = outputs.logits\n",
    "      predictions = torch.argmax(logits, dim=1)\n",
    "      all_preds.extend(predictions.cpu().numpy())"
   ]
  },
  {
   "cell_type": "code",
   "execution_count": 31,
   "metadata": {},
   "outputs": [],
   "source": [
    "import csv\n",
    "with open(f'{MAIN_DIR}/metamia_results.csv', mode='w') as csv_file: # for mp3.1, use filename 'mp3.1_results.csv'\n",
    "    writer = csv.writer(csv_file)\n",
    "    writer.writerow(['label'])\n",
    "    for item in all_preds:\n",
    "        writer.writerow([item])"
   ]
  },
  {
   "cell_type": "code",
   "execution_count": null,
   "metadata": {},
   "outputs": [],
   "source": []
  }
 ],
 "metadata": {
  "kernelspec": {
   "name": "python3",
   "display_name": "Python 3.9.7 64-bit",
   "metadata": {
    "interpreter": {
     "hash": "aee8b7b246df8f9039afb4144a1f6fd8d2ca17a180786b69acc140d282b71a49"
    }
   }
  },
  "language_info": {
   "codemirror_mode": {
    "name": "ipython",
    "version": 3
   },
   "file_extension": ".py",
   "mimetype": "text/x-python",
   "name": "python",
   "nbconvert_exporter": "python",
   "pygments_lexer": "ipython3",
   "version": "3.9.7-final"
  }
 },
 "nbformat": 4,
 "nbformat_minor": 4
}